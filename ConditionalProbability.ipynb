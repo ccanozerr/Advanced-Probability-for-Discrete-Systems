{
  "nbformat": 4,
  "nbformat_minor": 0,
  "metadata": {
    "colab": {
      "name": "ConditionalProbability.ipynb",
      "provenance": [],
      "collapsed_sections": [],
      "authorship_tag": "ABX9TyNR85AR1yDMODlcvWLWdCNg",
      "include_colab_link": true
    },
    "kernelspec": {
      "name": "python3",
      "display_name": "Python 3"
    },
    "language_info": {
      "name": "python"
    }
  },
  "cells": [
    {
      "cell_type": "markdown",
      "metadata": {
        "id": "view-in-github",
        "colab_type": "text"
      },
      "source": [
        "<a href=\"https://colab.research.google.com/github/ccanozerr/Advanced-Probability-for-Discrete-Systems/blob/main/ConditionalProbability.ipynb\" target=\"_parent\"><img src=\"https://colab.research.google.com/assets/colab-badge.svg\" alt=\"Open In Colab\"/></a>"
      ]
    },
    {
      "cell_type": "markdown",
      "metadata": {
        "id": "J-0dqgJJ8zYG"
      },
      "source": [
        "There are 4 red and 6 yellow marbles in a bag.\n",
        "\n",
        "It is known that one of the 2 marbles taken from the bag is red.\n",
        "What is the probability that the other ball is yellow?\n",
        "\n",
        "Case A: The probability that a marble is yellow\n",
        "\n",
        "Case B: The probability that a marble is red\n",
        "\n",
        "Conditional probability is calculated by the formula below;\n",
        "\n",
        "P(A|B) = P(A∩B) / P(B)\n",
        "\n",
        "P(A∩B) = C(4,1)*C(6,1) / C(10,2)\n",
        "\n",
        "P(B) = 1 - C(6,2) / C(10,2)"
      ]
    },
    {
      "cell_type": "code",
      "metadata": {
        "id": "3WuAMnLLGMYH"
      },
      "source": [
        "import operator as op\n",
        "from functools import reduce\n",
        "\n",
        "def combination(n, r):\n",
        "    r = min(r, n-r)\n",
        "    numer = reduce(op.mul, range(n, n-r, -1), 1)\n",
        "    denom = reduce(op.mul, range(1, r+1), 1)\n",
        "    return numer // denom"
      ],
      "execution_count": 1,
      "outputs": []
    },
    {
      "cell_type": "code",
      "metadata": {
        "id": "h9yJyW0HDU1G"
      },
      "source": [
        "P_B = 1 - (combination(6,2) / combination(10,2));\n",
        "P_A_Intersection_B = combination(4,1) * combination(6,1) / combination(10,2);"
      ],
      "execution_count": 2,
      "outputs": []
    },
    {
      "cell_type": "code",
      "metadata": {
        "colab": {
          "base_uri": "https://localhost:8080/"
        },
        "id": "5iAgHeV-Ikkp",
        "outputId": "10c428e2-d24c-4944-80e1-7ec8cb690353"
      },
      "source": [
        "print(\"P_B: \" + str(P_B));\n",
        "print(\"P_A_Intersection_B: \" + str(P_A_Intersection_B));"
      ],
      "execution_count": 3,
      "outputs": [
        {
          "output_type": "stream",
          "text": [
            "P_B: 0.6666666666666667\n",
            "P_A_Intersection_B: 0.5333333333333333\n"
          ],
          "name": "stdout"
        }
      ]
    },
    {
      "cell_type": "code",
      "metadata": {
        "id": "K0Or05wwJz8D"
      },
      "source": [
        "def conditionalProbability(intersection, contitional):\n",
        "  return intersection / contitional"
      ],
      "execution_count": 4,
      "outputs": []
    },
    {
      "cell_type": "code",
      "metadata": {
        "colab": {
          "base_uri": "https://localhost:8080/"
        },
        "id": "ANHsUlawKWkc",
        "outputId": "d83b2de4-4cd6-4335-962c-46f450ff9909"
      },
      "source": [
        "conditionalProbability(P_A_Intersection_B, P_B)"
      ],
      "execution_count": 5,
      "outputs": [
        {
          "output_type": "execute_result",
          "data": {
            "text/plain": [
              "0.7999999999999999"
            ]
          },
          "metadata": {
            "tags": []
          },
          "execution_count": 5
        }
      ]
    }
  ]
}