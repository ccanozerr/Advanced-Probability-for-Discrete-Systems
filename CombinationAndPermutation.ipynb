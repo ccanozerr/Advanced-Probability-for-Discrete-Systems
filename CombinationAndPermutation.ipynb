{
  "nbformat": 4,
  "nbformat_minor": 0,
  "metadata": {
    "colab": {
      "name": "CombinationAndPermutation.ipynb",
      "provenance": [],
      "collapsed_sections": [],
      "authorship_tag": "ABX9TyOeM4fJPyoY/KCJYAlhCb+M",
      "include_colab_link": true
    },
    "kernelspec": {
      "name": "python3",
      "display_name": "Python 3"
    },
    "language_info": {
      "name": "python"
    }
  },
  "cells": [
    {
      "cell_type": "markdown",
      "metadata": {
        "id": "view-in-github",
        "colab_type": "text"
      },
      "source": [
        "<a href=\"https://colab.research.google.com/github/ccanozerr/Advanced-Probability-for-Discrete-Systems/blob/main/CombinationAndPermutation.ipynb\" target=\"_parent\"><img src=\"https://colab.research.google.com/assets/colab-badge.svg\" alt=\"Open In Colab\"/></a>"
      ]
    },
    {
      "cell_type": "markdown",
      "metadata": {
        "id": "RAVxKk3tfFrg"
      },
      "source": [
        "Out of 6 cooks and 5 waiters who apply for a job in a restaurant, 2 cooks and 2 waiters will be hired. How many different ways can it be chosen?"
      ]
    },
    {
      "cell_type": "markdown",
      "metadata": {
        "id": "0HnLkuoAfknc"
      },
      "source": [
        "P = C(6,2)*C(5,2)"
      ]
    },
    {
      "cell_type": "code",
      "metadata": {
        "id": "28JUXKEPfvP0"
      },
      "source": [
        "import operator as op\n",
        "from functools import reduce\n",
        "\n",
        "def combination(n, r):\n",
        "    r = min(r, n-r)\n",
        "    numer = reduce(op.mul, range(n, n-r, -1), 1)\n",
        "    denom = reduce(op.mul, range(1, r+1), 1)\n",
        "    return numer // denom"
      ],
      "execution_count": 1,
      "outputs": []
    },
    {
      "cell_type": "code",
      "metadata": {
        "id": "CX2orF2GfyA2"
      },
      "source": [
        "P = combination(6,2) * combination(5,2)"
      ],
      "execution_count": 2,
      "outputs": []
    },
    {
      "cell_type": "code",
      "metadata": {
        "colab": {
          "base_uri": "https://localhost:8080/"
        },
        "id": "PrO3xcHOf69M",
        "outputId": "9b75945d-3929-4e80-d2bf-e5dd00e17cc4"
      },
      "source": [
        "print(\"P = \" + str(P))"
      ],
      "execution_count": 3,
      "outputs": [
        {
          "output_type": "stream",
          "text": [
            "P = 150\n"
          ],
          "name": "stdout"
        }
      ]
    },
    {
      "cell_type": "markdown",
      "metadata": {
        "id": "DZos0kBWgP8r"
      },
      "source": [
        "******************************************************************************"
      ]
    },
    {
      "cell_type": "markdown",
      "metadata": {
        "id": "D7EWc5cTgR-q"
      },
      "source": [
        "A license plate begins with three letters. If the possible letters are A, B, C, D and E, how many different permutations of these letters can be made if no letter is used more than once?"
      ]
    },
    {
      "cell_type": "markdown",
      "metadata": {
        "id": "-reiZVZnhaVv"
      },
      "source": [
        "For the first letter, there are 5 possible choices. After that letter is chosen, there are 4 possible choices. Finally, there are 3 possible choices."
      ]
    },
    {
      "cell_type": "code",
      "metadata": {
        "id": "TBnVbFl7h3A1"
      },
      "source": [
        "def factorial(n):\n",
        "    fact = 1\n",
        "    for num in range(2, n + 1):\n",
        "        fact *= num\n",
        "    return fact"
      ],
      "execution_count": 4,
      "outputs": []
    },
    {
      "cell_type": "code",
      "metadata": {
        "id": "Br5wX_4miAp9"
      },
      "source": [
        "def permutation (n,r):\n",
        "    return factorial(n) / factorial(n-r)"
      ],
      "execution_count": 5,
      "outputs": []
    },
    {
      "cell_type": "code",
      "metadata": {
        "id": "HXjnjX_RiLTO"
      },
      "source": [
        "P = permutation(5,3)"
      ],
      "execution_count": 6,
      "outputs": []
    },
    {
      "cell_type": "code",
      "metadata": {
        "colab": {
          "base_uri": "https://localhost:8080/"
        },
        "id": "3tvGRnPgihQj",
        "outputId": "0a598de1-22d8-4397-b058-b4219cfa88ba"
      },
      "source": [
        "print(\"Permutation: \" + str(P))"
      ],
      "execution_count": 7,
      "outputs": [
        {
          "output_type": "stream",
          "text": [
            "Permutation: 60.0\n"
          ],
          "name": "stdout"
        }
      ]
    }
  ]
}