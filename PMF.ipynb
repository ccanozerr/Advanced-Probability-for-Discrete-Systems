{
  "nbformat": 4,
  "nbformat_minor": 0,
  "metadata": {
    "colab": {
      "name": "PMF.ipynb",
      "provenance": [],
      "authorship_tag": "ABX9TyMSQ5XxhHY4MajjPKqiHtRm",
      "include_colab_link": true
    },
    "kernelspec": {
      "name": "python3",
      "display_name": "Python 3"
    },
    "language_info": {
      "name": "python"
    }
  },
  "cells": [
    {
      "cell_type": "markdown",
      "metadata": {
        "id": "view-in-github",
        "colab_type": "text"
      },
      "source": [
        "<a href=\"https://colab.research.google.com/github/ccanozerr/Advanced-Probability-for-Discrete-Systems/blob/main/PMF.ipynb\" target=\"_parent\"><img src=\"https://colab.research.google.com/assets/colab-badge.svg\" alt=\"Open In Colab\"/></a>"
      ]
    },
    {
      "cell_type": "markdown",
      "metadata": {
        "id": "n51NaOQwljqK"
      },
      "source": [
        "I toss a fair coin three times, and let X be defined as the number of heads I observe. Find the range of X, Rx, as well as its probability mass function Px."
      ]
    },
    {
      "cell_type": "markdown",
      "metadata": {
        "id": "nXBchcITlsMQ"
      },
      "source": [
        "Here, our sample space is given by;\n",
        "\n",
        "S={HHH,HHT,HTT,TTT,TTH,THH,THT,HTH}\n",
        "\n",
        "The number of heads will be 0, 1, 2 or 3. Thus -> Rx={0,1,2,3}."
      ]
    },
    {
      "cell_type": "markdown",
      "metadata": {
        "id": "CfB6pfUVmdPH"
      },
      "source": [
        "We have;\n",
        "\n",
        "Px(0) => P(X=0) => P(HHH)=1/8,\n",
        "\n",
        "Px(1) => P(X=1) => P({HHT, THH, HTH}) = 1/8 + 1/8 + 1/8 = 3/8,\n",
        "\n",
        "Px(2) => P(X=2) => P({TTH, THT, HTT})= 1/8 + 1/8 + 1/8 = 3/8,\n",
        "\n",
        "Px(3) => P(X=3) => P(TTT) = 1/8,"
      ]
    },
    {
      "cell_type": "code",
      "metadata": {
        "id": "OtBP2aiLNB7O"
      },
      "source": [
        "expectedValue = 0*1/8 + 1*3/8 + 2*3/8 + 3*1/8"
      ],
      "execution_count": 1,
      "outputs": []
    },
    {
      "cell_type": "code",
      "metadata": {
        "colab": {
          "base_uri": "https://localhost:8080/"
        },
        "id": "amYTSRmENVsj",
        "outputId": "d2169ca8-c813-4384-cca6-be528fb6d335"
      },
      "source": [
        "print(\"Expected value: \" + str(expectedValue))"
      ],
      "execution_count": 2,
      "outputs": [
        {
          "output_type": "stream",
          "text": [
            "Expected value: 1.5\n"
          ],
          "name": "stdout"
        }
      ]
    },
    {
      "cell_type": "code",
      "metadata": {
        "colab": {
          "base_uri": "https://localhost:8080/",
          "height": 294
        },
        "id": "SQzROjRCmghj",
        "outputId": "b8aed5b8-bd60-448c-fee1-b46eeb8f2733"
      },
      "source": [
        "import matplotlib.pyplot as plt\n",
        "x1 = [0, 1, 2, 3]\n",
        "y1 = [1/8, 3/8, 3/8, 1/8]\n",
        "\n",
        "plt.bar(x1, y1, label=\"Px\", color='b')\n",
        "plt.plot()\n",
        "\n",
        "plt.xlabel(\"possible\")\n",
        "plt.ylabel(\"possibility\")\n",
        "plt.title(\"PMF Graph\")\n",
        "plt.legend()\n",
        "plt.show()"
      ],
      "execution_count": null,
      "outputs": [
        {
          "output_type": "display_data",
          "data": {
            "image/png": "[encoded data removed]",
            "text/plain": [
              "<Figure size 432x288 with 1 Axes>"
            ]
          },
          "metadata": {
            "tags": [],
            "needs_background": "light"
          }
        }
      ]
    }
  ]
}